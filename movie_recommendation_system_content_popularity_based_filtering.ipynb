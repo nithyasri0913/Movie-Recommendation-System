{
  "nbformat": 4,
  "nbformat_minor": 0,
  "metadata": {
    "colab": {
      "name": "movie recommendation system - content/popularity based filtering.ipynb",
      "provenance": [],
      "authorship_tag": "ABX9TyN/Rew+hpWszExeyyVCS647",
      "include_colab_link": true
    },
    "kernelspec": {
      "name": "python3",
      "display_name": "Python 3"
    },
    "language_info": {
      "name": "python"
    }
  },
  "cells": [
    {
      "cell_type": "markdown",
      "metadata": {
        "id": "view-in-github",
        "colab_type": "text"
      },
      "source": [
        "<a href=\"https://colab.research.google.com/github/nithyasri0913/Movie-Recommendation-System/blob/main/movie_recommendation_system_content_popularity_based_filtering.ipynb\" target=\"_parent\"><img src=\"https://colab.research.google.com/assets/colab-badge.svg\" alt=\"Open In Colab\"/></a>"
      ]
    },
    {
      "cell_type": "code",
      "execution_count": 35,
      "metadata": {
        "id": "RbIQfwdIDD7w"
      },
      "outputs": [],
      "source": [
        "import numpy as np\n",
        "import pandas as pd\n",
        "import difflib\n",
        "from sklearn.feature_extraction.text import TfidfVectorizer\n",
        "from sklearn.metrics.pairwise import cosine_similarity"
      ]
    },
    {
      "cell_type": "markdown",
      "source": [
        "### Data collection and pre-processing\n"
      ],
      "metadata": {
        "id": "d9s2vX6GEfsZ"
      }
    },
    {
      "cell_type": "code",
      "source": [
        "#loading the data\n",
        "movies_data=pd.read_csv('/movies.csv')"
      ],
      "metadata": {
        "id": "xq5gQ1oQEWlT"
      },
      "execution_count": 36,
      "outputs": []
    },
    {
      "cell_type": "code",
      "source": [
        "movies_data.head()"
      ],
      "metadata": {
        "colab": {
          "base_uri": "https://localhost:8080/",
          "height": 803
        },
        "id": "pyTtNRxXEWn5",
        "outputId": "ab1616f8-b502-416b-f124-a6853ae41903"
      },
      "execution_count": 37,
      "outputs": [
        {
          "output_type": "execute_result",
          "data": {
            "text/plain": [
              "   index     budget                                    genres  \\\n",
              "0      0  237000000  Action Adventure Fantasy Science Fiction   \n",
              "1      1  300000000                  Adventure Fantasy Action   \n",
              "2      2  245000000                    Action Adventure Crime   \n",
              "3      3  250000000               Action Crime Drama Thriller   \n",
              "4      4  260000000          Action Adventure Science Fiction   \n",
              "\n",
              "                                       homepage      id  \\\n",
              "0                   http://www.avatarmovie.com/   19995   \n",
              "1  http://disney.go.com/disneypictures/pirates/     285   \n",
              "2   http://www.sonypictures.com/movies/spectre/  206647   \n",
              "3            http://www.thedarkknightrises.com/   49026   \n",
              "4          http://movies.disney.com/john-carter   49529   \n",
              "\n",
              "                                            keywords original_language  \\\n",
              "0  culture clash future space war space colony so...                en   \n",
              "1  ocean drug abuse exotic island east india trad...                en   \n",
              "2         spy based on novel secret agent sequel mi6                en   \n",
              "3  dc comics crime fighter terrorist secret ident...                en   \n",
              "4  based on novel mars medallion space travel pri...                en   \n",
              "\n",
              "                             original_title  \\\n",
              "0                                    Avatar   \n",
              "1  Pirates of the Caribbean: At World's End   \n",
              "2                                   Spectre   \n",
              "3                     The Dark Knight Rises   \n",
              "4                               John Carter   \n",
              "\n",
              "                                            overview  popularity  ... runtime  \\\n",
              "0  In the 22nd century, a paraplegic Marine is di...  150.437577  ...   162.0   \n",
              "1  Captain Barbossa, long believed to be dead, ha...  139.082615  ...   169.0   \n",
              "2  A cryptic message from Bond’s past sends him o...  107.376788  ...   148.0   \n",
              "3  Following the death of District Attorney Harve...  112.312950  ...   165.0   \n",
              "4  John Carter is a war-weary, former military ca...   43.926995  ...   132.0   \n",
              "\n",
              "                                    spoken_languages    status  \\\n",
              "0  [{\"iso_639_1\": \"en\", \"name\": \"English\"}, {\"iso...  Released   \n",
              "1           [{\"iso_639_1\": \"en\", \"name\": \"English\"}]  Released   \n",
              "2  [{\"iso_639_1\": \"fr\", \"name\": \"Fran\\u00e7ais\"},...  Released   \n",
              "3           [{\"iso_639_1\": \"en\", \"name\": \"English\"}]  Released   \n",
              "4           [{\"iso_639_1\": \"en\", \"name\": \"English\"}]  Released   \n",
              "\n",
              "                                          tagline  \\\n",
              "0                     Enter the World of Pandora.   \n",
              "1  At the end of the world, the adventure begins.   \n",
              "2                           A Plan No One Escapes   \n",
              "3                                 The Legend Ends   \n",
              "4            Lost in our world, found in another.   \n",
              "\n",
              "                                      title vote_average vote_count  \\\n",
              "0                                    Avatar          7.2      11800   \n",
              "1  Pirates of the Caribbean: At World's End          6.9       4500   \n",
              "2                                   Spectre          6.3       4466   \n",
              "3                     The Dark Knight Rises          7.6       9106   \n",
              "4                               John Carter          6.1       2124   \n",
              "\n",
              "                                                cast  \\\n",
              "0  Sam Worthington Zoe Saldana Sigourney Weaver S...   \n",
              "1  Johnny Depp Orlando Bloom Keira Knightley Stel...   \n",
              "2  Daniel Craig Christoph Waltz L\\u00e9a Seydoux ...   \n",
              "3  Christian Bale Michael Caine Gary Oldman Anne ...   \n",
              "4  Taylor Kitsch Lynn Collins Samantha Morton Wil...   \n",
              "\n",
              "                                                crew           director  \n",
              "0  [{'name': 'Stephen E. Rivkin', 'gender': 0, 'd...      James Cameron  \n",
              "1  [{'name': 'Dariusz Wolski', 'gender': 2, 'depa...     Gore Verbinski  \n",
              "2  [{'name': 'Thomas Newman', 'gender': 2, 'depar...         Sam Mendes  \n",
              "3  [{'name': 'Hans Zimmer', 'gender': 2, 'departm...  Christopher Nolan  \n",
              "4  [{'name': 'Andrew Stanton', 'gender': 2, 'depa...     Andrew Stanton  \n",
              "\n",
              "[5 rows x 24 columns]"
            ],
            "text/html": [
              "\n",
              "  <div id=\"df-e6962813-9c49-4e34-bbf5-f878e0f5685c\">\n",
              "    <div class=\"colab-df-container\">\n",
              "      <div>\n",
              "<style scoped>\n",
              "    .dataframe tbody tr th:only-of-type {\n",
              "        vertical-align: middle;\n",
              "    }\n",
              "\n",
              "    .dataframe tbody tr th {\n",
              "        vertical-align: top;\n",
              "    }\n",
              "\n",
              "    .dataframe thead th {\n",
              "        text-align: right;\n",
              "    }\n",
              "</style>\n",
              "<table border=\"1\" class=\"dataframe\">\n",
              "  <thead>\n",
              "    <tr style=\"text-align: right;\">\n",
              "      <th></th>\n",
              "      <th>index</th>\n",
              "      <th>budget</th>\n",
              "      <th>genres</th>\n",
              "      <th>homepage</th>\n",
              "      <th>id</th>\n",
              "      <th>keywords</th>\n",
              "      <th>original_language</th>\n",
              "      <th>original_title</th>\n",
              "      <th>overview</th>\n",
              "      <th>popularity</th>\n",
              "      <th>...</th>\n",
              "      <th>runtime</th>\n",
              "      <th>spoken_languages</th>\n",
              "      <th>status</th>\n",
              "      <th>tagline</th>\n",
              "      <th>title</th>\n",
              "      <th>vote_average</th>\n",
              "      <th>vote_count</th>\n",
              "      <th>cast</th>\n",
              "      <th>crew</th>\n",
              "      <th>director</th>\n",
              "    </tr>\n",
              "  </thead>\n",
              "  <tbody>\n",
              "    <tr>\n",
              "      <th>0</th>\n",
              "      <td>0</td>\n",
              "      <td>237000000</td>\n",
              "      <td>Action Adventure Fantasy Science Fiction</td>\n",
              "      <td>http://www.avatarmovie.com/</td>\n",
              "      <td>19995</td>\n",
              "      <td>culture clash future space war space colony so...</td>\n",
              "      <td>en</td>\n",
              "      <td>Avatar</td>\n",
              "      <td>In the 22nd century, a paraplegic Marine is di...</td>\n",
              "      <td>150.437577</td>\n",
              "      <td>...</td>\n",
              "      <td>162.0</td>\n",
              "      <td>[{\"iso_639_1\": \"en\", \"name\": \"English\"}, {\"iso...</td>\n",
              "      <td>Released</td>\n",
              "      <td>Enter the World of Pandora.</td>\n",
              "      <td>Avatar</td>\n",
              "      <td>7.2</td>\n",
              "      <td>11800</td>\n",
              "      <td>Sam Worthington Zoe Saldana Sigourney Weaver S...</td>\n",
              "      <td>[{'name': 'Stephen E. Rivkin', 'gender': 0, 'd...</td>\n",
              "      <td>James Cameron</td>\n",
              "    </tr>\n",
              "    <tr>\n",
              "      <th>1</th>\n",
              "      <td>1</td>\n",
              "      <td>300000000</td>\n",
              "      <td>Adventure Fantasy Action</td>\n",
              "      <td>http://disney.go.com/disneypictures/pirates/</td>\n",
              "      <td>285</td>\n",
              "      <td>ocean drug abuse exotic island east india trad...</td>\n",
              "      <td>en</td>\n",
              "      <td>Pirates of the Caribbean: At World's End</td>\n",
              "      <td>Captain Barbossa, long believed to be dead, ha...</td>\n",
              "      <td>139.082615</td>\n",
              "      <td>...</td>\n",
              "      <td>169.0</td>\n",
              "      <td>[{\"iso_639_1\": \"en\", \"name\": \"English\"}]</td>\n",
              "      <td>Released</td>\n",
              "      <td>At the end of the world, the adventure begins.</td>\n",
              "      <td>Pirates of the Caribbean: At World's End</td>\n",
              "      <td>6.9</td>\n",
              "      <td>4500</td>\n",
              "      <td>Johnny Depp Orlando Bloom Keira Knightley Stel...</td>\n",
              "      <td>[{'name': 'Dariusz Wolski', 'gender': 2, 'depa...</td>\n",
              "      <td>Gore Verbinski</td>\n",
              "    </tr>\n",
              "    <tr>\n",
              "      <th>2</th>\n",
              "      <td>2</td>\n",
              "      <td>245000000</td>\n",
              "      <td>Action Adventure Crime</td>\n",
              "      <td>http://www.sonypictures.com/movies/spectre/</td>\n",
              "      <td>206647</td>\n",
              "      <td>spy based on novel secret agent sequel mi6</td>\n",
              "      <td>en</td>\n",
              "      <td>Spectre</td>\n",
              "      <td>A cryptic message from Bond’s past sends him o...</td>\n",
              "      <td>107.376788</td>\n",
              "      <td>...</td>\n",
              "      <td>148.0</td>\n",
              "      <td>[{\"iso_639_1\": \"fr\", \"name\": \"Fran\\u00e7ais\"},...</td>\n",
              "      <td>Released</td>\n",
              "      <td>A Plan No One Escapes</td>\n",
              "      <td>Spectre</td>\n",
              "      <td>6.3</td>\n",
              "      <td>4466</td>\n",
              "      <td>Daniel Craig Christoph Waltz L\\u00e9a Seydoux ...</td>\n",
              "      <td>[{'name': 'Thomas Newman', 'gender': 2, 'depar...</td>\n",
              "      <td>Sam Mendes</td>\n",
              "    </tr>\n",
              "    <tr>\n",
              "      <th>3</th>\n",
              "      <td>3</td>\n",
              "      <td>250000000</td>\n",
              "      <td>Action Crime Drama Thriller</td>\n",
              "      <td>http://www.thedarkknightrises.com/</td>\n",
              "      <td>49026</td>\n",
              "      <td>dc comics crime fighter terrorist secret ident...</td>\n",
              "      <td>en</td>\n",
              "      <td>The Dark Knight Rises</td>\n",
              "      <td>Following the death of District Attorney Harve...</td>\n",
              "      <td>112.312950</td>\n",
              "      <td>...</td>\n",
              "      <td>165.0</td>\n",
              "      <td>[{\"iso_639_1\": \"en\", \"name\": \"English\"}]</td>\n",
              "      <td>Released</td>\n",
              "      <td>The Legend Ends</td>\n",
              "      <td>The Dark Knight Rises</td>\n",
              "      <td>7.6</td>\n",
              "      <td>9106</td>\n",
              "      <td>Christian Bale Michael Caine Gary Oldman Anne ...</td>\n",
              "      <td>[{'name': 'Hans Zimmer', 'gender': 2, 'departm...</td>\n",
              "      <td>Christopher Nolan</td>\n",
              "    </tr>\n",
              "    <tr>\n",
              "      <th>4</th>\n",
              "      <td>4</td>\n",
              "      <td>260000000</td>\n",
              "      <td>Action Adventure Science Fiction</td>\n",
              "      <td>http://movies.disney.com/john-carter</td>\n",
              "      <td>49529</td>\n",
              "      <td>based on novel mars medallion space travel pri...</td>\n",
              "      <td>en</td>\n",
              "      <td>John Carter</td>\n",
              "      <td>John Carter is a war-weary, former military ca...</td>\n",
              "      <td>43.926995</td>\n",
              "      <td>...</td>\n",
              "      <td>132.0</td>\n",
              "      <td>[{\"iso_639_1\": \"en\", \"name\": \"English\"}]</td>\n",
              "      <td>Released</td>\n",
              "      <td>Lost in our world, found in another.</td>\n",
              "      <td>John Carter</td>\n",
              "      <td>6.1</td>\n",
              "      <td>2124</td>\n",
              "      <td>Taylor Kitsch Lynn Collins Samantha Morton Wil...</td>\n",
              "      <td>[{'name': 'Andrew Stanton', 'gender': 2, 'depa...</td>\n",
              "      <td>Andrew Stanton</td>\n",
              "    </tr>\n",
              "  </tbody>\n",
              "</table>\n",
              "<p>5 rows × 24 columns</p>\n",
              "</div>\n",
              "      <button class=\"colab-df-convert\" onclick=\"convertToInteractive('df-e6962813-9c49-4e34-bbf5-f878e0f5685c')\"\n",
              "              title=\"Convert this dataframe to an interactive table.\"\n",
              "              style=\"display:none;\">\n",
              "        \n",
              "  <svg xmlns=\"http://www.w3.org/2000/svg\" height=\"24px\"viewBox=\"0 0 24 24\"\n",
              "       width=\"24px\">\n",
              "    <path d=\"M0 0h24v24H0V0z\" fill=\"none\"/>\n",
              "    <path d=\"M18.56 5.44l.94 2.06.94-2.06 2.06-.94-2.06-.94-.94-2.06-.94 2.06-2.06.94zm-11 1L8.5 8.5l.94-2.06 2.06-.94-2.06-.94L8.5 2.5l-.94 2.06-2.06.94zm10 10l.94 2.06.94-2.06 2.06-.94-2.06-.94-.94-2.06-.94 2.06-2.06.94z\"/><path d=\"M17.41 7.96l-1.37-1.37c-.4-.4-.92-.59-1.43-.59-.52 0-1.04.2-1.43.59L10.3 9.45l-7.72 7.72c-.78.78-.78 2.05 0 2.83L4 21.41c.39.39.9.59 1.41.59.51 0 1.02-.2 1.41-.59l7.78-7.78 2.81-2.81c.8-.78.8-2.07 0-2.86zM5.41 20L4 18.59l7.72-7.72 1.47 1.35L5.41 20z\"/>\n",
              "  </svg>\n",
              "      </button>\n",
              "      \n",
              "  <style>\n",
              "    .colab-df-container {\n",
              "      display:flex;\n",
              "      flex-wrap:wrap;\n",
              "      gap: 12px;\n",
              "    }\n",
              "\n",
              "    .colab-df-convert {\n",
              "      background-color: #E8F0FE;\n",
              "      border: none;\n",
              "      border-radius: 50%;\n",
              "      cursor: pointer;\n",
              "      display: none;\n",
              "      fill: #1967D2;\n",
              "      height: 32px;\n",
              "      padding: 0 0 0 0;\n",
              "      width: 32px;\n",
              "    }\n",
              "\n",
              "    .colab-df-convert:hover {\n",
              "      background-color: #E2EBFA;\n",
              "      box-shadow: 0px 1px 2px rgba(60, 64, 67, 0.3), 0px 1px 3px 1px rgba(60, 64, 67, 0.15);\n",
              "      fill: #174EA6;\n",
              "    }\n",
              "\n",
              "    [theme=dark] .colab-df-convert {\n",
              "      background-color: #3B4455;\n",
              "      fill: #D2E3FC;\n",
              "    }\n",
              "\n",
              "    [theme=dark] .colab-df-convert:hover {\n",
              "      background-color: #434B5C;\n",
              "      box-shadow: 0px 1px 3px 1px rgba(0, 0, 0, 0.15);\n",
              "      filter: drop-shadow(0px 1px 2px rgba(0, 0, 0, 0.3));\n",
              "      fill: #FFFFFF;\n",
              "    }\n",
              "  </style>\n",
              "\n",
              "      <script>\n",
              "        const buttonEl =\n",
              "          document.querySelector('#df-e6962813-9c49-4e34-bbf5-f878e0f5685c button.colab-df-convert');\n",
              "        buttonEl.style.display =\n",
              "          google.colab.kernel.accessAllowed ? 'block' : 'none';\n",
              "\n",
              "        async function convertToInteractive(key) {\n",
              "          const element = document.querySelector('#df-e6962813-9c49-4e34-bbf5-f878e0f5685c');\n",
              "          const dataTable =\n",
              "            await google.colab.kernel.invokeFunction('convertToInteractive',\n",
              "                                                     [key], {});\n",
              "          if (!dataTable) return;\n",
              "\n",
              "          const docLinkHtml = 'Like what you see? Visit the ' +\n",
              "            '<a target=\"_blank\" href=https://colab.research.google.com/notebooks/data_table.ipynb>data table notebook</a>'\n",
              "            + ' to learn more about interactive tables.';\n",
              "          element.innerHTML = '';\n",
              "          dataTable['output_type'] = 'display_data';\n",
              "          await google.colab.output.renderOutput(dataTable, element);\n",
              "          const docLink = document.createElement('div');\n",
              "          docLink.innerHTML = docLinkHtml;\n",
              "          element.appendChild(docLink);\n",
              "        }\n",
              "      </script>\n",
              "    </div>\n",
              "  </div>\n",
              "  "
            ]
          },
          "metadata": {},
          "execution_count": 37
        }
      ]
    },
    {
      "cell_type": "code",
      "source": [
        "movies_data.shape"
      ],
      "metadata": {
        "colab": {
          "base_uri": "https://localhost:8080/"
        },
        "id": "1HcFk1t4EWqi",
        "outputId": "f3ce8c77-9494-44f6-d019-6e7486edfd4c"
      },
      "execution_count": 38,
      "outputs": [
        {
          "output_type": "execute_result",
          "data": {
            "text/plain": [
              "(4803, 24)"
            ]
          },
          "metadata": {},
          "execution_count": 38
        }
      ]
    },
    {
      "cell_type": "code",
      "source": [
        "#feature selection\n",
        "selected_features=['genres','keywords','tagline','cast','director']\n",
        "print(selected_features)"
      ],
      "metadata": {
        "colab": {
          "base_uri": "https://localhost:8080/"
        },
        "id": "aengxtA3Fg-h",
        "outputId": "02f781cb-f5ab-4009-aba2-a7fce990eaa9"
      },
      "execution_count": 39,
      "outputs": [
        {
          "output_type": "stream",
          "name": "stdout",
          "text": [
            "['genres', 'keywords', 'tagline', 'cast', 'director']\n"
          ]
        }
      ]
    },
    {
      "cell_type": "code",
      "source": [
        "for feature in selected_features:\n",
        "  movies_data[feature]=movies_data[feature].fillna('')"
      ],
      "metadata": {
        "id": "nEAnoSGPFhBH"
      },
      "execution_count": 40,
      "outputs": []
    },
    {
      "cell_type": "code",
      "source": [
        "#combining features\n",
        "combined_features=movies_data['genres']+movies_data['keywords']+movies_data['tagline']+movies_data['cast']+movies_data['director']\n",
        "combined_features.head()"
      ],
      "metadata": {
        "colab": {
          "base_uri": "https://localhost:8080/"
        },
        "id": "eWJbOGPnFhDt",
        "outputId": "80846b81-085c-4f3c-8763-d140886711ed"
      },
      "execution_count": 41,
      "outputs": [
        {
          "output_type": "execute_result",
          "data": {
            "text/plain": [
              "0    Action Adventure Fantasy Science Fictioncultur...\n",
              "1    Adventure Fantasy Actionocean drug abuse exoti...\n",
              "2    Action Adventure Crimespy based on novel secre...\n",
              "3    Action Crime Drama Thrillerdc comics crime fig...\n",
              "4    Action Adventure Science Fictionbased on novel...\n",
              "dtype: object"
            ]
          },
          "metadata": {},
          "execution_count": 41
        }
      ]
    },
    {
      "cell_type": "code",
      "source": [
        "#converting text to feature vectors\n",
        "vectorizer=TfidfVectorizer()"
      ],
      "metadata": {
        "id": "IYK6GJDFFhGE"
      },
      "execution_count": 42,
      "outputs": []
    },
    {
      "cell_type": "code",
      "source": [
        "feature_vectors=vectorizer.fit_transform(combined_features)\n",
        "print(feature_vectors)"
      ],
      "metadata": {
        "colab": {
          "base_uri": "https://localhost:8080/"
        },
        "id": "8MVMB5HOFhIZ",
        "outputId": "abe89304-4387-4586-e6d5-bfdb87db19d1"
      },
      "execution_count": 43,
      "outputs": [
        {
          "output_type": "stream",
          "name": "stdout",
          "text": [
            "  (0, 3583)\t0.16941894714909375\n",
            "  (0, 20729)\t0.2738578969459924\n",
            "  (0, 16614)\t0.15696073877453268\n",
            "  (0, 14550)\t0.2236809363648068\n",
            "  (0, 23267)\t0.16128139780622516\n",
            "  (0, 26547)\t0.19638671147741732\n",
            "  (0, 22464)\t0.20207089568711745\n",
            "  (0, 21487)\t0.21550128478931546\n",
            "  (0, 27540)\t0.19771357974524176\n",
            "  (0, 27182)\t0.23480088356130552\n",
            "  (0, 21521)\t0.1562356665943368\n",
            "  (0, 18558)\t0.2612168335104853\n",
            "  (0, 18164)\t0.08690831799482265\n",
            "  (0, 27161)\t0.1261988657937151\n",
            "  (0, 24197)\t0.07518543993419265\n",
            "  (0, 22778)\t0.2738578969459924\n",
            "  (0, 4676)\t0.2452909770424961\n",
            "  (0, 26334)\t0.13059723071916296\n",
            "  (0, 22916)\t0.33668756406929184\n",
            "  (0, 10193)\t0.16532432420812987\n",
            "  (0, 4456)\t0.21799675215510664\n",
            "  (0, 9304)\t0.2738578969459924\n",
            "  (0, 21836)\t0.09966592997173944\n",
            "  (0, 8936)\t0.11806131645084653\n",
            "  (0, 444)\t0.09109355212252294\n",
            "  :\t:\n",
            "  (4801, 5449)\t0.31510541707008866\n",
            "  (4801, 22170)\t0.31510541707008866\n",
            "  (4801, 27361)\t0.31510541707008866\n",
            "  (4801, 27513)\t0.3005604008026175\n",
            "  (4801, 8121)\t0.2611505149930138\n",
            "  (4801, 758)\t0.19369913462690624\n",
            "  (4801, 11776)\t0.3005604008026175\n",
            "  (4801, 18790)\t0.22450140828104795\n",
            "  (4801, 2511)\t0.16619755360453184\n",
            "  (4801, 17791)\t0.15702571586793676\n",
            "  (4801, 12846)\t0.1232063996421506\n",
            "  (4802, 7770)\t0.28212235292045307\n",
            "  (4802, 11874)\t0.5642447058409061\n",
            "  (4802, 10640)\t0.28212235292045307\n",
            "  (4802, 6978)\t0.28212235292045307\n",
            "  (4802, 3569)\t0.2526933433912742\n",
            "  (4802, 9174)\t0.23381507827213685\n",
            "  (4802, 5847)\t0.2598601666162226\n",
            "  (4802, 11042)\t0.2245754361399493\n",
            "  (4802, 20664)\t0.1718311116708895\n",
            "  (4802, 2027)\t0.19514642661077047\n",
            "  (4802, 5354)\t0.2196244946235084\n",
            "  (4802, 8313)\t0.1713172199751922\n",
            "  (4802, 3128)\t0.17288424030654004\n",
            "  (4802, 7626)\t0.17686850692938538\n"
          ]
        }
      ]
    },
    {
      "cell_type": "markdown",
      "source": [
        "### Cosine Similarity"
      ],
      "metadata": {
        "id": "0sq7WhDIOmLa"
      }
    },
    {
      "cell_type": "code",
      "source": [
        "similarity=cosine_similarity(feature_vectors)\n",
        "print(similarity)"
      ],
      "metadata": {
        "colab": {
          "base_uri": "https://localhost:8080/"
        },
        "id": "j8XkYfo4EWtX",
        "outputId": "e1c4cf79-e169-4bae-9fb6-5cceb29fb52e"
      },
      "execution_count": 44,
      "outputs": [
        {
          "output_type": "stream",
          "name": "stdout",
          "text": [
            "[[1.         0.06865296 0.01492221 ... 0.         0.         0.        ]\n",
            " [0.06865296 1.         0.02799128 ... 0.01243107 0.         0.        ]\n",
            " [0.01492221 0.02799128 1.         ... 0.         0.         0.        ]\n",
            " ...\n",
            " [0.         0.01243107 0.         ... 1.         0.         0.        ]\n",
            " [0.         0.         0.         ... 0.         1.         0.        ]\n",
            " [0.         0.         0.         ... 0.         0.         1.        ]]\n"
          ]
        }
      ]
    },
    {
      "cell_type": "code",
      "source": [
        "similarity.shape"
      ],
      "metadata": {
        "colab": {
          "base_uri": "https://localhost:8080/"
        },
        "id": "JFWrTFhJO8Tl",
        "outputId": "e3fa03d7-8c4a-42de-9c2a-ef7295a659f2"
      },
      "execution_count": 45,
      "outputs": [
        {
          "output_type": "execute_result",
          "data": {
            "text/plain": [
              "(4803, 4803)"
            ]
          },
          "metadata": {},
          "execution_count": 45
        }
      ]
    },
    {
      "cell_type": "code",
      "source": [
        "#getting movie name from the user\n",
        "movie_name=input(\"Enter the movie name: \")"
      ],
      "metadata": {
        "colab": {
          "base_uri": "https://localhost:8080/"
        },
        "id": "KPcjikhCO8WK",
        "outputId": "777cf098-dcef-4354-cee5-ec80f4938357"
      },
      "execution_count": 46,
      "outputs": [
        {
          "name": "stdout",
          "output_type": "stream",
          "text": [
            "Enter the movie name: The Godfather\n"
          ]
        }
      ]
    },
    {
      "cell_type": "code",
      "source": [
        "#list of all movies\n",
        "all_titles=movies_data['title'].tolist()\n",
        "#print(all_titles)"
      ],
      "metadata": {
        "id": "RM9wfy2BO8Y2"
      },
      "execution_count": 49,
      "outputs": []
    },
    {
      "cell_type": "code",
      "source": [
        "#find the closest matches\n",
        "find_close_match=difflib.get_close_matches(movie_name,all_titles)\n",
        "print(find_close_match)"
      ],
      "metadata": {
        "colab": {
          "base_uri": "https://localhost:8080/"
        },
        "id": "o-AFpkpoO8a3",
        "outputId": "99ae4a46-3e91-4541-bdc9-1e33d73a563f"
      },
      "execution_count": 50,
      "outputs": [
        {
          "output_type": "stream",
          "name": "stdout",
          "text": [
            "['The Godfather', 'The Last Godfather', 'The Watcher']\n"
          ]
        }
      ]
    },
    {
      "cell_type": "code",
      "source": [
        "close_match=find_close_match[0]\n",
        "print(close_match)"
      ],
      "metadata": {
        "colab": {
          "base_uri": "https://localhost:8080/"
        },
        "id": "MiSMXa3AO8dN",
        "outputId": "48980d05-7182-4980-b303-c0dc7c38ff9a"
      },
      "execution_count": 51,
      "outputs": [
        {
          "output_type": "stream",
          "name": "stdout",
          "text": [
            "The Godfather\n"
          ]
        }
      ]
    },
    {
      "cell_type": "code",
      "source": [
        "#index of the movie with title\n",
        "index=movies_data[movies_data.title==close_match]['index'].values[0]\n",
        "print(index)"
      ],
      "metadata": {
        "colab": {
          "base_uri": "https://localhost:8080/"
        },
        "id": "6AqFaqEFP0m9",
        "outputId": "c16f2cf9-4da8-4d21-8609-8f9190587c8b"
      },
      "execution_count": 52,
      "outputs": [
        {
          "output_type": "stream",
          "name": "stdout",
          "text": [
            "3337\n"
          ]
        }
      ]
    },
    {
      "cell_type": "code",
      "source": [
        "# list of similar movies\n",
        "similarity_score=list(enumerate(similarity[index]))\n",
        "#print(similarity_score)"
      ],
      "metadata": {
        "id": "BREpi3fyP0py"
      },
      "execution_count": 53,
      "outputs": []
    },
    {
      "cell_type": "code",
      "source": [
        "#sort based on similarity score\n",
        "sorted_score=sorted(similarity_score,key=lambda x:x[1],reverse=True)\n",
        "#print(sorted_score)"
      ],
      "metadata": {
        "id": "KW7JS1yGP0sY"
      },
      "execution_count": 54,
      "outputs": []
    },
    {
      "cell_type": "code",
      "source": [
        "#print the name of similar movies based on index\n",
        "print('Suggestions: \\n')\n",
        "i=1\n",
        "for movie in sorted_score:\n",
        "  index=movie[0]\n",
        "  title_from_index=movies_data[movies_data.index==index]['title'].values[0]\n",
        "  if(i<=10):\n",
        "    print(i,')',title_from_index)\n",
        "    i=i+1\n"
      ],
      "metadata": {
        "colab": {
          "base_uri": "https://localhost:8080/"
        },
        "id": "PMqLs7d6P0vQ",
        "outputId": "adaaaf63-4a39-4c13-8f70-6f3929ddddaa"
      },
      "execution_count": 55,
      "outputs": [
        {
          "output_type": "stream",
          "name": "stdout",
          "text": [
            "Suggestions: \n",
            "\n",
            "1 ) The Godfather\n",
            "2 ) Closer\n",
            "3 ) Apocalypse Now\n",
            "4 ) The Godfather: Part II\n",
            "5 ) The Godfather: Part III\n",
            "6 ) August Rush\n",
            "7 ) American Graffiti\n",
            "8 ) Machete\n",
            "9 ) Leaving Las Vegas\n",
            "10 ) West Side Story\n"
          ]
        }
      ]
    },
    {
      "cell_type": "markdown",
      "source": [
        "# Movie Recommender System"
      ],
      "metadata": {
        "id": "K9d3HEyvSdi5"
      }
    },
    {
      "cell_type": "code",
      "source": [
        "movie_name=input(\"Enter the movie name: \")\n",
        "#list of all movies\n",
        "all_titles=movies_data['title'].tolist()\n",
        "#find the closest matches\n",
        "find_close_match=difflib.get_close_matches(movie_name,all_titles)\n",
        "close_match=find_close_match[0]\n",
        "#index of the movie with title\n",
        "index=movies_data[movies_data.title==close_match]['index'].values[0]\n",
        "# list of similar movies\n",
        "similarity_score=list(enumerate(similarity[index]))\n",
        "#sort based on similarity score\n",
        "sorted_score=sorted(similarity_score,key=lambda x:x[1],reverse=True)\n",
        "#print the name of similar movies based on index\n",
        "print('Suggestions: \\n')\n",
        "i=1\n",
        "for movie in sorted_score:\n",
        "  index=movie[0]\n",
        "  title_from_index=movies_data[movies_data.index==index]['title'].values[0]\n",
        "  if(i<=10):\n",
        "    print(i,')',title_from_index)\n",
        "    i=i+1\n"
      ],
      "metadata": {
        "colab": {
          "base_uri": "https://localhost:8080/"
        },
        "id": "Ja0BE5MxO8fz",
        "outputId": "d757a42a-6cc2-4928-d12d-94542a34586b"
      },
      "execution_count": 56,
      "outputs": [
        {
          "output_type": "stream",
          "name": "stdout",
          "text": [
            "Enter the movie name: The Godfather\n",
            "Suggestions: \n",
            "\n",
            "1 ) The Godfather\n",
            "2 ) Closer\n",
            "3 ) Apocalypse Now\n",
            "4 ) The Godfather: Part II\n",
            "5 ) The Godfather: Part III\n",
            "6 ) August Rush\n",
            "7 ) American Graffiti\n",
            "8 ) Machete\n",
            "9 ) Leaving Las Vegas\n",
            "10 ) West Side Story\n"
          ]
        }
      ]
    }
  ]
}